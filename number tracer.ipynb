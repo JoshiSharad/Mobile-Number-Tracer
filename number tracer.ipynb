{
 "cells": [
  {
   "cell_type": "code",
   "execution_count": 7,
   "metadata": {},
   "outputs": [],
   "source": [
    "import phonenumbers\n",
    "from phonenumbers import carrier\n",
    "from phonenumbers import geocoder\n",
    "\n",
    "def locate():\n",
    "    a=input('Enter the phone number you want to locate: ')\n",
    "\n",
    "    phone_number=phonenumbers.parse(a)\n",
    "\n",
    "    print(\"Country: {} \".format(geocoder.description_for_number(phone_number,'en')))\n",
    "    print(\"Carrier: {} \".format(carrier.name_for_number(phone_number,'en')))"
   ]
  },
  {
   "cell_type": "code",
   "execution_count": null,
   "metadata": {},
   "outputs": [],
   "source": []
  }
 ],
 "metadata": {
  "kernelspec": {
   "display_name": "Python 3",
   "language": "python",
   "name": "python3"
  },
  "language_info": {
   "codemirror_mode": {
    "name": "ipython",
    "version": 3
   },
   "file_extension": ".py",
   "mimetype": "text/x-python",
   "name": "python",
   "nbconvert_exporter": "python",
   "pygments_lexer": "ipython3",
   "version": "3.8.5"
  }
 },
 "nbformat": 4,
 "nbformat_minor": 4
}
